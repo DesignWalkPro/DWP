{
  "nbformat": 4,
  "nbformat_minor": 0,
  "metadata": {
    "colab": {
      "provenance": [],
      "authorship_tag": "ABX9TyMkCfN8+BgUMp1raD8c9pNz",
      "include_colab_link": true
    },
    "kernelspec": {
      "name": "python3",
      "display_name": "Python 3"
    },
    "language_info": {
      "name": "python"
    }
  },
  "cells": [
    {
      "cell_type": "markdown",
      "metadata": {
        "id": "view-in-github",
        "colab_type": "text"
      },
      "source": [
        "<a href=\"https://colab.research.google.com/github/DesignWalkPro/DWP/blob/master/Untitled3.ipynb\" target=\"_parent\"><img src=\"https://colab.research.google.com/assets/colab-badge.svg\" alt=\"Open In Colab\"/></a>"
      ]
    },
    {
      "cell_type": "code",
      "execution_count": null,
      "metadata": {
        "id": "s52cry_FuAgp"
      },
      "outputs": [],
      "source": [
        "#to access kaggle datasets\n",
        "!pip install kaggle\n",
        "#Math operations\n",
        "!pip install numpy==1.15.0\n",
        "#Machine learning\n",
        "!pip install catboost"
      ]
    },
    {
      "cell_type": "code",
      "source": [
        "#data preprocessing\n",
        "import pandas as pd\n",
        "#math operations\n",
        "import numpy as np\n",
        "#machine learning\n",
        "from catboost import CatBoostRegressor, Pool\n",
        "#data scaling\n",
        "from sklearn.preprocessing import StandardScaler\n",
        "#hyperparameter optimization\n",
        "from sklearn.model_selection import GridSearchCV\n",
        "#support vector machine model\n",
        "from sklearn.svm import NuSVR, SVR\n",
        "#kernel ridge model\n",
        "from sklearn.kernel_ridge import KernelRidge\n",
        "#data visualization\n",
        "import matplotlib.pyplot as plt\n",
        "     "
      ],
      "metadata": {
        "id": "SDD9GefvvrZi"
      },
      "execution_count": 1,
      "outputs": []
    }
  ]
}